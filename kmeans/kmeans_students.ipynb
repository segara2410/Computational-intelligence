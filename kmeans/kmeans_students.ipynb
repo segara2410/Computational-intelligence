{
 "metadata": {
  "language_info": {
   "codemirror_mode": {
    "name": "ipython",
    "version": 3
   },
   "file_extension": ".py",
   "mimetype": "text/x-python",
   "name": "python",
   "nbconvert_exporter": "python",
   "pygments_lexer": "ipython3",
   "version": "3.8.5-final"
  },
  "orig_nbformat": 2,
  "kernelspec": {
   "name": "Python 3.8.5 64-bit ('base': conda)",
   "display_name": "Python 3.8.5 64-bit ('base': conda)",
   "metadata": {
    "interpreter": {
     "hash": "09e8f59572efde6c78b4fe9a751f9709180363ed03059851d603e58af70ebf0f"
    }
   }
  }
 },
 "nbformat": 4,
 "nbformat_minor": 2,
 "cells": [
  {
   "cell_type": "code",
   "execution_count": 1,
   "metadata": {},
   "outputs": [],
   "source": [
    "import pandas as pd\n",
    "import numpy as np \n",
    "from sklearn.preprocessing import StandardScaler\n",
    "from sklearn.cluster import KMeans\n",
    "import matplotlib.pyplot as plt"
   ]
  },
  {
   "cell_type": "code",
   "execution_count": 2,
   "metadata": {},
   "outputs": [
    {
     "output_type": "execute_result",
     "data": {
      "text/plain": [
       "    STG   SCG   STR   LPR   PEG       UNS\n",
       "0  0.00  0.00  0.00  0.00  0.00  very_low\n",
       "1  0.08  0.08  0.10  0.24  0.90      High\n",
       "2  0.06  0.06  0.05  0.25  0.33       Low\n",
       "3  0.10  0.10  0.15  0.65  0.30    Middle\n",
       "4  0.08  0.08  0.08  0.98  0.24       Low"
      ],
      "text/html": "<div>\n<style scoped>\n    .dataframe tbody tr th:only-of-type {\n        vertical-align: middle;\n    }\n\n    .dataframe tbody tr th {\n        vertical-align: top;\n    }\n\n    .dataframe thead th {\n        text-align: right;\n    }\n</style>\n<table border=\"1\" class=\"dataframe\">\n  <thead>\n    <tr style=\"text-align: right;\">\n      <th></th>\n      <th>STG</th>\n      <th>SCG</th>\n      <th>STR</th>\n      <th>LPR</th>\n      <th>PEG</th>\n      <th>UNS</th>\n    </tr>\n  </thead>\n  <tbody>\n    <tr>\n      <th>0</th>\n      <td>0.00</td>\n      <td>0.00</td>\n      <td>0.00</td>\n      <td>0.00</td>\n      <td>0.00</td>\n      <td>very_low</td>\n    </tr>\n    <tr>\n      <th>1</th>\n      <td>0.08</td>\n      <td>0.08</td>\n      <td>0.10</td>\n      <td>0.24</td>\n      <td>0.90</td>\n      <td>High</td>\n    </tr>\n    <tr>\n      <th>2</th>\n      <td>0.06</td>\n      <td>0.06</td>\n      <td>0.05</td>\n      <td>0.25</td>\n      <td>0.33</td>\n      <td>Low</td>\n    </tr>\n    <tr>\n      <th>3</th>\n      <td>0.10</td>\n      <td>0.10</td>\n      <td>0.15</td>\n      <td>0.65</td>\n      <td>0.30</td>\n      <td>Middle</td>\n    </tr>\n    <tr>\n      <th>4</th>\n      <td>0.08</td>\n      <td>0.08</td>\n      <td>0.08</td>\n      <td>0.98</td>\n      <td>0.24</td>\n      <td>Low</td>\n    </tr>\n  </tbody>\n</table>\n</div>"
     },
     "metadata": {},
     "execution_count": 2
    }
   ],
   "source": [
    "source_df = pd.read_csv('students_knowledge.csv')\n",
    "source_df = source_df.loc[:, ~source_df.columns.str.contains('^Unnamed')]\n",
    "source_df = source_df.drop('Attribute Information:', axis=1)\n",
    "source_df.head()"
   ]
  },
  {
   "cell_type": "code",
   "execution_count": 3,
   "metadata": {},
   "outputs": [
    {
     "output_type": "execute_result",
     "data": {
      "text/plain": [
       "    STG   SCG   STR   LPR   PEG\n",
       "0  0.00  0.00  0.00  0.00  0.00\n",
       "1  0.08  0.08  0.10  0.24  0.90\n",
       "2  0.06  0.06  0.05  0.25  0.33\n",
       "3  0.10  0.10  0.15  0.65  0.30\n",
       "4  0.08  0.08  0.08  0.98  0.24"
      ],
      "text/html": "<div>\n<style scoped>\n    .dataframe tbody tr th:only-of-type {\n        vertical-align: middle;\n    }\n\n    .dataframe tbody tr th {\n        vertical-align: top;\n    }\n\n    .dataframe thead th {\n        text-align: right;\n    }\n</style>\n<table border=\"1\" class=\"dataframe\">\n  <thead>\n    <tr style=\"text-align: right;\">\n      <th></th>\n      <th>STG</th>\n      <th>SCG</th>\n      <th>STR</th>\n      <th>LPR</th>\n      <th>PEG</th>\n    </tr>\n  </thead>\n  <tbody>\n    <tr>\n      <th>0</th>\n      <td>0.00</td>\n      <td>0.00</td>\n      <td>0.00</td>\n      <td>0.00</td>\n      <td>0.00</td>\n    </tr>\n    <tr>\n      <th>1</th>\n      <td>0.08</td>\n      <td>0.08</td>\n      <td>0.10</td>\n      <td>0.24</td>\n      <td>0.90</td>\n    </tr>\n    <tr>\n      <th>2</th>\n      <td>0.06</td>\n      <td>0.06</td>\n      <td>0.05</td>\n      <td>0.25</td>\n      <td>0.33</td>\n    </tr>\n    <tr>\n      <th>3</th>\n      <td>0.10</td>\n      <td>0.10</td>\n      <td>0.15</td>\n      <td>0.65</td>\n      <td>0.30</td>\n    </tr>\n    <tr>\n      <th>4</th>\n      <td>0.08</td>\n      <td>0.08</td>\n      <td>0.08</td>\n      <td>0.98</td>\n      <td>0.24</td>\n    </tr>\n  </tbody>\n</table>\n</div>"
     },
     "metadata": {},
     "execution_count": 3
    }
   ],
   "source": [
    "df = source_df.drop(' UNS', axis=1)\n",
    "df.head()"
   ]
  },
  {
   "cell_type": "code",
   "execution_count": 4,
   "metadata": {},
   "outputs": [
    {
     "output_type": "execute_result",
     "data": {
      "text/plain": [
       "array([[-1.76851922, -1.68126919, -1.90661929, -1.74744134, -1.80019743],\n",
       "       [-1.38731871, -1.30311004, -1.49922538, -0.77824063,  1.73315205],\n",
       "       [-1.48261884, -1.39764983, -1.70292233, -0.73785726, -0.50463595],\n",
       "       ...,\n",
       "       [ 0.80458427,  2.19486207,  0.98587747, -0.57632381,  1.22277934],\n",
       "       [ 0.61398401,  1.86397282,  1.39327138,  0.71594381, -0.77945202],\n",
       "       [ 1.37638505,  2.57302122,  1.18957442,  1.76591125,  1.10500103]])"
      ]
     },
     "metadata": {},
     "execution_count": 4
    }
   ],
   "source": [
    "X = df.values[:,:]\n",
    "X = np.nan_to_num(X)\n",
    "Clus_dataSet = StandardScaler().fit_transform(X)\n",
    "Clus_dataSet"
   ]
  },
  {
   "cell_type": "code",
   "execution_count": 5,
   "metadata": {},
   "outputs": [
    {
     "output_type": "stream",
     "name": "stdout",
     "text": [
      "[0 0 0 1 1 0 0 1 1 0 3 1 1 3 3 3 1 0 0 0 1 0 0 1 1 3 1 1 1 3 3 1 1 0 0 0 1\n 0 1 1 1 3 3 1 1 3 3 3 2 0 0 0 1 3 3 1 1 3 3 1 1 3 3 1 1 0 0 0 0 0 0 0 1 3\n 3 1 1 3 1 1 1 0 0 1 1 1 0 1 1 3 3 1 1 3 3 1 1 0 0 0 1 0 0 1 1 3 3 3 1 3 3\n 3 2 0 0 1 1 2 3 3 1 1 3 3 3 2 3 3 1 1 0 0 1 2 0 0 1 1 3 1 1 1 3 3 3 2 0 1\n 1 2 0 0 1 1 3 3 3 2 3 3 1 1 0 0 1 0 0 3 1 0 3 3 2 1 3 3 1 2 0 0 1 2 3 1 1\n 1 3 3 1 2 3 3 3 2 0 0 1 1 0 1 1 2 1 1 2 1 3 3 1 2 0 0 2 2 3 0 1 2 3 3 1 2\n 3 3 1 2 0 0 2 2 0 0 1 2 3 3 1 3 3 3 1 2 0 0 1 2 3 0 2 2 3 3 1 2 3 3 1 2]\n"
     ]
    }
   ],
   "source": [
    "k_means = KMeans(init = \"k-means++\", n_clusters = 4, n_init = 12)\n",
    "k_means.fit(X)\n",
    "labels = k_means.labels_\n",
    "print(labels)"
   ]
  },
  {
   "cell_type": "code",
   "execution_count": 6,
   "metadata": {},
   "outputs": [
    {
     "output_type": "execute_result",
     "data": {
      "text/plain": [
       "    STG   SCG   STR   LPR   PEG  Clus_km\n",
       "0  0.00  0.00  0.00  0.00  0.00        0\n",
       "1  0.08  0.08  0.10  0.24  0.90        0\n",
       "2  0.06  0.06  0.05  0.25  0.33        0\n",
       "3  0.10  0.10  0.15  0.65  0.30        1\n",
       "4  0.08  0.08  0.08  0.98  0.24        1"
      ],
      "text/html": "<div>\n<style scoped>\n    .dataframe tbody tr th:only-of-type {\n        vertical-align: middle;\n    }\n\n    .dataframe tbody tr th {\n        vertical-align: top;\n    }\n\n    .dataframe thead th {\n        text-align: right;\n    }\n</style>\n<table border=\"1\" class=\"dataframe\">\n  <thead>\n    <tr style=\"text-align: right;\">\n      <th></th>\n      <th>STG</th>\n      <th>SCG</th>\n      <th>STR</th>\n      <th>LPR</th>\n      <th>PEG</th>\n      <th>Clus_km</th>\n    </tr>\n  </thead>\n  <tbody>\n    <tr>\n      <th>0</th>\n      <td>0.00</td>\n      <td>0.00</td>\n      <td>0.00</td>\n      <td>0.00</td>\n      <td>0.00</td>\n      <td>0</td>\n    </tr>\n    <tr>\n      <th>1</th>\n      <td>0.08</td>\n      <td>0.08</td>\n      <td>0.10</td>\n      <td>0.24</td>\n      <td>0.90</td>\n      <td>0</td>\n    </tr>\n    <tr>\n      <th>2</th>\n      <td>0.06</td>\n      <td>0.06</td>\n      <td>0.05</td>\n      <td>0.25</td>\n      <td>0.33</td>\n      <td>0</td>\n    </tr>\n    <tr>\n      <th>3</th>\n      <td>0.10</td>\n      <td>0.10</td>\n      <td>0.15</td>\n      <td>0.65</td>\n      <td>0.30</td>\n      <td>1</td>\n    </tr>\n    <tr>\n      <th>4</th>\n      <td>0.08</td>\n      <td>0.08</td>\n      <td>0.08</td>\n      <td>0.98</td>\n      <td>0.24</td>\n      <td>1</td>\n    </tr>\n  </tbody>\n</table>\n</div>"
     },
     "metadata": {},
     "execution_count": 6
    }
   ],
   "source": [
    "df[\"Clus_km\"] = labels\n",
    "df.head()"
   ]
  },
  {
   "cell_type": "code",
   "execution_count": 29,
   "metadata": {},
   "outputs": [
    {
     "output_type": "execute_result",
     "data": {
      "text/plain": [
       "'accuration : 49.225 %'"
      ]
     },
     "metadata": {},
     "execution_count": 29
    }
   ],
   "source": [
    "mapping_dict = { 0: 'very_low', 1: 'Low', 2:'High', 3:'Middle'}\n",
    "source_df[\"Km_label\"] = [mapping_dict[x] for x in df['Clus_km']]\n",
    "source_df['eq'] = np.where(source_df[\" UNS\"] == source_df[\"Km_label\"], True, False)\n",
    "# source_df.to_csv(\"students_kmeans_res.csv\", index=False)\n",
    "# source_df\n",
    "'accuration : ' + str(round(source_df.loc[source_df['eq'] == True].count()[1] / source_df.shape[0] * 100, 3)) + ' %'"
   ]
  }
 ]
}